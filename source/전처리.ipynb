{
 "cells": [
  {
   "cell_type": "code",
   "execution_count": 7,
   "id": "35d51e3c-d023-47d1-a272-37b63469f9b1",
   "metadata": {},
   "outputs": [],
   "source": [
    "# import \n",
    "import os\n",
    "import json\n",
    "import pandas as pd\n",
    "import shutil\n",
    "import zipfile"
   ]
  },
  {
   "cell_type": "code",
   "execution_count": null,
   "id": "e91a4cab-02fe-49b5-9d9b-58d4054c2d40",
   "metadata": {},
   "outputs": [],
   "source": [
    "# 🔹 1️⃣ 압축 해제 (ZIP 파일 전체)\n",
    "zip_folder = \"압축파일_폴더경로\"  # ZIP 파일들이 있는 폴더\n",
    "extract_folder = \"압축해제_폴더경로\"  # 압축 해제할 폴더\n",
    "csv_file_path = \"nutrition_data.csv\"  # CSV 파일 경로\n",
    "\n",
    "# ZIP 파일 목록 가져오기\n",
    "zip_files = [f for f in os.listdir(zip_folder) if f.endswith(\".zip\")]\n",
    "\n",
    "for zip_file in zip_files:\n",
    "    zip_path = os.path.join(zip_folder, zip_file)\n",
    "    with zipfile.ZipFile(zip_path, 'r') as zip_ref:\n",
    "        zip_ref.extractall(extract_folder)  # 압축 해제\n",
    "    print(f\"✅ {zip_file} 압축 해제 완료!\")\n",
    "\n",
    "# 🔹 2️⃣ CSV 데이터 로드\n",
    "df = pd.read_csv(csv_file_path)\n",
    "df = df[['식품명', '당류(g)']]\n",
    "\n",
    "# 🔹 3️⃣ JSON 파일 수정 (당류 추가)\n",
    "json_files = [f for f in os.listdir(extract_folder) if f.endswith(\".json\")]\n",
    "\n",
    "for json_file in json_files:\n",
    "    json_path = os.path.join(extract_folder, json_file)\n",
    "\n",
    "    with open(json_path, \"r\", encoding=\"utf-8\") as f:\n",
    "        json_data = json.load(f)\n",
    "\n",
    "    # JSON에서 음식명 매칭 후 당류 추가\n",
    "    for item in json_data:\n",
    "        food_name = item[\"Name\"]  # JSON 속 음식명\n",
    "        matching_row = df[df[\"식품명\"] == food_name]  # CSV에서 검색\n",
    "        \n",
    "        if not matching_row.empty:\n",
    "            item[\"당류(g)\"] = matching_row[\"당류(g)\"].values[0]\n",
    "        else:\n",
    "            item[\"당류(g)\"] = None\n",
    "\n",
    "    # 수정된 JSON 저장 (덮어쓰기)\n",
    "    with open(json_path, \"w\", encoding=\"utf-8\") as f:\n",
    "        json.dump(json_data, f, ensure_ascii=False, indent=4)\n",
    "\n",
    "    print(f\"✅ {json_file} 업데이트 완료!\")\n",
    "\n",
    "# 🔹 4️⃣ 원본 JSON 삭제 후 CSV 변환\n",
    "all_data = []\n",
    "\n",
    "for json_file in json_files:\n",
    "    json_path = os.path.join(extract_folder, json_file)\n",
    "    \n",
    "    with open(json_path, \"r\", encoding=\"utf-8\") as f:\n",
    "        json_data = json.load(f)\n",
    "    \n",
    "    all_data.extend(json_data)  # JSON 데이터 합치기\n",
    "    os.remove(json_path)  # 원본 JSON 삭제\n",
    "\n",
    "# CSV 파일 저장\n",
    "csv_output_path = \"updated_food_data.csv\"\n",
    "df_json = pd.DataFrame(all_data)\n",
    "df_json.to_csv(csv_output_path, index=False, encoding=\"utf-8-sig\")\n",
    "\n",
    "print(\"✅ 모든 작업 완료! JSON 원본 삭제 및 CSV 변환 완료!\")"
   ]
  }
 ],
 "metadata": {
  "kernelspec": {
   "display_name": "Python 3 (ipykernel)",
   "language": "python",
   "name": "python3"
  },
  "language_info": {
   "codemirror_mode": {
    "name": "ipython",
    "version": 3
   },
   "file_extension": ".py",
   "mimetype": "text/x-python",
   "name": "python",
   "nbconvert_exporter": "python",
   "pygments_lexer": "ipython3",
   "version": "3.8.20"
  },
  "widgets": {
   "application/vnd.jupyter.widget-state+json": {
    "state": {},
    "version_major": 2,
    "version_minor": 0
   }
  }
 },
 "nbformat": 4,
 "nbformat_minor": 5
}
