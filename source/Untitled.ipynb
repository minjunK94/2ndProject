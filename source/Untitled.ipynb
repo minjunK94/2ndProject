{
 "cells": [
  {
   "cell_type": "code",
   "execution_count": null,
   "id": "69d80075-20be-4f35-968e-143492d170bc",
   "metadata": {},
   "outputs": [],
   "source": []
  }
 ],
 "metadata": {
  "kernelspec": {
   "display_name": "",
   "name": ""
  },
  "language_info": {
   "name": ""
  },
  "widgets": {
   "application/vnd.jupyter.widget-state+json": {
    "state": {},
    "version_major": 2,
    "version_minor": 0
   }
  }
 },
 "nbformat": 4,
 "nbformat_minor": 5
}
